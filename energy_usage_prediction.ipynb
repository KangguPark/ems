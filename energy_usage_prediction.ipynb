{
  "nbformat": 4,
  "nbformat_minor": 0,
  "metadata": {
    "accelerator": "GPU",
    "colab": {
      "name": "energy_usage_prediction.ipynb",
      "provenance": [],
      "private_outputs": true,
      "collapsed_sections": [],
      "toc_visible": true,
      "include_colab_link": true
    },
    "kernelspec": {
      "name": "python3",
      "display_name": "Python 3"
    }
  },
  "cells": [
    {
      "cell_type": "markdown",
      "metadata": {
        "id": "view-in-github",
        "colab_type": "text"
      },
      "source": [
        "<a href=\"https://colab.research.google.com/github/kgpark88/ems/blob/master/energy_usage_prediction.ipynb\" target=\"_parent\"><img src=\"https://colab.research.google.com/assets/colab-badge.svg\" alt=\"Open In Colab\"/></a>"
      ]
    },
    {
      "cell_type": "markdown",
      "metadata": {
        "colab_type": "text",
        "id": "GU8C5qm_4vZb"
      },
      "source": [
        "# 전력 소비량 예측 딥러닝 모델 개발 및 검증"
      ]
    },
    {
      "cell_type": "markdown",
      "metadata": {
        "id": "VKSvQQ0oFRVV",
        "colab_type": "text"
      },
      "source": [
        "### 필요한 라이브러리 로드"
      ]
    },
    {
      "cell_type": "code",
      "metadata": {
        "colab_type": "code",
        "id": "7rZnJaGTWQw0",
        "colab": {}
      },
      "source": [
        "import os\n",
        "import numpy as np\n",
        "import pandas as pd\n",
        "import matplotlib.pyplot as plt\n",
        "\n",
        "import tensorflow as tf\n",
        "from tensorflow import keras\n",
        "\n",
        "from google.colab import auth\n",
        "from google.colab import drive"
      ],
      "execution_count": 0,
      "outputs": []
    },
    {
      "cell_type": "markdown",
      "metadata": {
        "id": "wgoGzyd4Eqv3",
        "colab_type": "text"
      },
      "source": [
        "### 데이터셋을 입력 데이터와 타깃 데이터로 분리합니다."
      ]
    },
    {
      "cell_type": "code",
      "metadata": {
        "id": "qmuK7Q7KEoEw",
        "colab_type": "code",
        "colab": {}
      },
      "source": [
        "def split_univariate_data(dataset, start_index, end_index, hist_data_size, target_size):\n",
        "    data = []\n",
        "    labels = []\n",
        "\n",
        "    start_index = start_index + hist_data_size\n",
        "    if end_index is None:\n",
        "        # end_index = len(dataset) - target_size\n",
        "        end_index = int(start_index + start_index/2)\n",
        "\n",
        "    for i in range(start_index, end_index):\n",
        "        indices = range(i-hist_data_size, i)\n",
        "        # Reshape data from (hist_data_size,) to (hist_data_size, 1)\n",
        "        data.append(np.reshape(dataset[indices], (hist_data_size, 1)))\n",
        "        labels.append(dataset[i+target_size])\n",
        "    return np.array(data), np.array(labels)"
      ],
      "execution_count": 0,
      "outputs": []
    },
    {
      "cell_type": "markdown",
      "metadata": {
        "id": "TL-ZlsKrE0Zi",
        "colab_type": "text"
      },
      "source": [
        "### 전력사용량 예측을 위한 딥러닝모델의 입력 데이터는 파란색점으로 표시하고, 타깃값은 빨간색 십자로 표시합니다."
      ]
    },
    {
      "cell_type": "code",
      "metadata": {
        "id": "DQZxSJqMEk0Q",
        "colab_type": "code",
        "colab": {}
      },
      "source": [
        "def show_plot(data, delta, title):\n",
        "    labels = ['Previous Power Usage', 'Future Power Usage', 'Model Prediction']\n",
        "    marker = ['.-', 'rx', 'go']\n",
        "    data_count = data[0].shape[0]\n",
        "    time_steps = [i for i in range(-data_count, 0, 1)]\n",
        "    if delta:\n",
        "        future = delta\n",
        "    else:\n",
        "        future = 0\n",
        "\n",
        "    plt.title(title)\n",
        "\n",
        "    for i, v in enumerate(data):\n",
        "        if i:\n",
        "            plt.plot(future, data[i], marker[i], markersize=10, label=labels[i])\n",
        "        else:\n",
        "            plt.plot(time_steps, data[i].flatten(), marker[i], label=labels[i])\n",
        "    plt.legend()\n",
        "    plt.xlim([time_steps[0], (future+5)*2])\n",
        "    plt.xlabel('Time-Step')     \n",
        "    return plt"
      ],
      "execution_count": 0,
      "outputs": []
    },
    {
      "cell_type": "code",
      "metadata": {
        "id": "aRf-8ab-E3yf",
        "colab_type": "code",
        "colab": {}
      },
      "source": [
        "def plot_train_history(history, title):\n",
        "    loss = history.history['loss']\n",
        "    val_loss = history.history['val_loss']\n",
        "    epochs = range(len(loss))\n",
        "    plt.figure()\n",
        "    plt.plot(epochs, loss, c='royalblue', label='Training loss',\n",
        "                 lw=2,  ls=\"-\", marker=\"o\", ms=10, mew=3)\n",
        "    plt.plot(epochs, val_loss, c='orangered', label='Validation loss',\n",
        "                 lw=2, ls=\"--\", marker=\"x\", ms=10, mew=3)\n",
        "    plt.title(title)\n",
        "    plt.legend()\n",
        "    plt.show()"
      ],
      "execution_count": 0,
      "outputs": []
    },
    {
      "cell_type": "markdown",
      "metadata": {
        "id": "2nvKZdEHL5Bq",
        "colab_type": "text"
      },
      "source": [
        "### 데이터 로드를 위해 구글 드라이브를 연동합니다."
      ]
    },
    {
      "cell_type": "code",
      "metadata": {
        "id": "Fq34lbhQL8U2",
        "colab_type": "code",
        "colab": {}
      },
      "source": [
        "drive.mount(\"/content/gdrive\")"
      ],
      "execution_count": 0,
      "outputs": []
    },
    {
      "cell_type": "markdown",
      "metadata": {
        "colab_type": "text",
        "id": "VdbOWXiTWM2T"
      },
      "source": [
        "### 데이터를 로딩합니다."
      ]
    },
    {
      "cell_type": "code",
      "metadata": {
        "colab_type": "code",
        "id": "TX6uGeeeWIkG",
        "colab": {}
      },
      "source": [
        "colab_dir ='/content/gdrive/My Drive/Colab Notebooks'\n",
        "file_name = 'power_usage_201.csv'\n",
        "data_file = os.path.join(colab_dir, \"data\", file_name)\n",
        "\n",
        "df = pd.read_csv(data_file, header = 0, delimiter = ',', quoting = 3)\n",
        "print('전체 데이터의 개수: {}'.format(len(df)))\n",
        "df.index = df['daq_time']"
      ],
      "execution_count": 0,
      "outputs": []
    },
    {
      "cell_type": "markdown",
      "metadata": {
        "id": "KA0frIREbDPR",
        "colab_type": "text"
      },
      "source": [
        ""
      ]
    },
    {
      "cell_type": "code",
      "metadata": {
        "colab_type": "code",
        "id": "ojHE-iCCWIhz",
        "colab": {}
      },
      "source": [
        "df.head()"
      ],
      "execution_count": 0,
      "outputs": []
    },
    {
      "cell_type": "code",
      "metadata": {
        "id": "ToyDH6o_fyyg",
        "colab_type": "code",
        "colab": {}
      },
      "source": [
        "df.tail()"
      ],
      "execution_count": 0,
      "outputs": []
    },
    {
      "cell_type": "code",
      "metadata": {
        "id": "062z_YvHzBF3",
        "colab_type": "code",
        "colab": {}
      },
      "source": [
        "df_week = df.iloc[0:96*7]\n",
        "df_week[\"power_usage\"].plot()"
      ],
      "execution_count": 0,
      "outputs": []
    },
    {
      "cell_type": "markdown",
      "metadata": {
        "colab_type": "text",
        "id": "qoFJZmXBaxCc"
      },
      "source": [
        "* training datasetr과 validation dataset으로 분리 합니다. \n",
        "* training 데이터 70,080개는 2년치 데이터에 해당합니다. \n",
        "* 4개x24시x365일x3년 = 70,080개"
      ]
    },
    {
      "cell_type": "markdown",
      "metadata": {
        "id": "RPmZ8zYDOmIB",
        "colab_type": "text"
      },
      "source": [
        "### 재현성을 보장하기 위해 시드 설정."
      ]
    },
    {
      "cell_type": "code",
      "metadata": {
        "id": "n52I7iz8OjCk",
        "colab_type": "code",
        "colab": {}
      },
      "source": [
        "np.random.seed(42)\n",
        "tf.random.set_seed(42)"
      ],
      "execution_count": 0,
      "outputs": []
    },
    {
      "cell_type": "markdown",
      "metadata": {
        "colab_type": "text",
        "id": "8YEwr-NoWUpV"
      },
      "source": [
        "## 일변량 시계열 예측\n",
        "먼저 단일 피쳐 (전력사용량) 만 사용하여 모델을 학습하고, 향후 해당 값을 예측하는 데 사용합니다.\n",
        "\n",
        "먼저 데이터세트에서 전력사용량만 추출합니다."
      ]
    },
    {
      "cell_type": "code",
      "metadata": {
        "colab_type": "code",
        "id": "nbdcnm1_WIY9",
        "colab": {}
      },
      "source": [
        "data = df['power_usage']\n",
        "data.index = df['daq_time']\n",
        "data.head()"
      ],
      "execution_count": 0,
      "outputs": []
    },
    {
      "cell_type": "markdown",
      "metadata": {
        "colab_type": "text",
        "id": "aQB-46MyWZMm"
      },
      "source": [
        "시간에 따른 전력사용량 패턴을 분석합니다."
      ]
    },
    {
      "cell_type": "code",
      "metadata": {
        "colab_type": "code",
        "id": "ftOExwAqWXSU",
        "colab": {}
      },
      "source": [
        "data.plot(subplots=True)"
      ],
      "execution_count": 0,
      "outputs": []
    },
    {
      "cell_type": "code",
      "metadata": {
        "colab_type": "code",
        "id": "ejSEiDqBWXQa",
        "colab": {}
      },
      "source": [
        "data = data.values"
      ],
      "execution_count": 0,
      "outputs": []
    },
    {
      "cell_type": "markdown",
      "metadata": {
        "colab_type": "text",
        "id": "-eFckdUUHWmT"
      },
      "source": [
        "* 신경망을 training하기 전에, 먼저 training dataset의 피처(feature)를 정규화합니다.\n",
        "* 정규화 방법은 각 피처에서 평균을 빼고 각 피처의 표준편차로 나눕니다.\n",
        "* 상이한 스케일을 가진 값을 신경망에 주입하면 학습을 어렵게 만듭니다. \n",
        "* 이런 데이터는 특성별로 정규화(표준화)가 필요합니다. \n",
        "* 각 특성을 특성의 평균을 빼고 표준 편차로 나눕니다. \n",
        "* 그렇다면 특성의 평균은 0, 표준 편차는 1인 데이터셋으로 만들어집니다. \n",
        "* 본 정규화는 훈련 데이터 값만 이용해야 함을 주의해야합니다."
      ]
    },
    {
      "cell_type": "code",
      "metadata": {
        "colab_type": "code",
        "id": "Eji6njXvHusN",
        "colab": {}
      },
      "source": [
        "train_data_mean = data[:TRAIN_SPLIT].mean()\n",
        "train_data_std = data[:TRAIN_SPLIT].std()\n",
        "data = (data - train_data_mean)/train_data_std\n",
        "data = np.round(data, 2)"
      ],
      "execution_count": 0,
      "outputs": []
    },
    {
      "cell_type": "markdown",
      "metadata": {
        "colab_type": "text",
        "id": "gn8A_nrccKtn"
      },
      "source": [
        "###  일변량 모델에 대한 데이터를 만듭니다. \n",
        "모델에 20 개의 전력사용량 측정치가 제공되며,\n",
        "다음 단계에서 전력사용량을 예측하는 방법을 학습합니다."
      ]
    },
    {
      "cell_type": "code",
      "metadata": {
        "colab_type": "code",
        "id": "aJJ-T49vWXOZ",
        "colab": {}
      },
      "source": [
        "TRAIN_SPLIT = 70080\n",
        "TEST_SPLIT = 105120\n",
        "\n",
        "HISTORY_DATA_SIZE = 20\n",
        "FUTURE_TARGET = 0\n",
        "\n",
        "x_train, y_train = split_univariate_data(data, 0, TRAIN_SPLIT, \n",
        "                                         HISTORY_DATA_SIZE, \n",
        "                                         FUTURE_TARGET)\n",
        "x_validation, y_validation = split_univariate_data(data, TRAIN_SPLIT, TEST_SPLIT, \n",
        "                                                     HISTORY_DATA_SIZE, \n",
        "                                                     FUTURE_TARGET)\n",
        "x_test, _ = split_univariate_data(data, TEST_SPLIT, TEST_SPLIT+100, \n",
        "                                                     HISTORY_DATA_SIZE, \n",
        "                                                     FUTURE_TARGET)"
      ],
      "execution_count": 0,
      "outputs": []
    },
    {
      "cell_type": "markdown",
      "metadata": {
        "colab_type": "text",
        "id": "aWpVMENsdp0N"
      },
      "source": [
        "split_data 함수가 반환하는 내용입니다."
      ]
    },
    {
      "cell_type": "code",
      "metadata": {
        "colab_type": "code",
        "id": "feDd95XFdz5H",
        "colab": {}
      },
      "source": [
        "print ('모델 입력 데이터 : 이전 전력사용량')\n",
        "print (x_train[0])\n",
        "print ('타겟 데이터 :  예측할 전력사용량')\n",
        "print (y_train[0])"
      ],
      "execution_count": 0,
      "outputs": []
    },
    {
      "cell_type": "code",
      "metadata": {
        "id": "HIKmpEESIpWU",
        "colab_type": "code",
        "colab": {}
      },
      "source": [
        "show_plot([x_train[0], y_train[0]], 0, 'Future Power Usage')"
      ],
      "execution_count": 0,
      "outputs": []
    },
    {
      "cell_type": "markdown",
      "metadata": {
        "id": "JXIuX6Tx6GRs",
        "colab_type": "text"
      },
      "source": [
        ""
      ]
    },
    {
      "cell_type": "markdown",
      "metadata": {
        "colab_type": "text",
        "id": "H4crpOcoMlSe"
      },
      "source": [
        "### 순환신경망(RNN : Recurrent Neural Network)\n",
        "* 순환신경망은 시계열 데이터에 적합한 신경망입니다.\n",
        "* 본 연구에서는 장단기 기억이 가능한 LSTM(Long Short Term Memory)이라는 RNN Layer를 사용합니다.\n",
        "\n",
        "\n"
      ]
    },
    {
      "cell_type": "code",
      "metadata": {
        "id": "CegaHVZ1zqow",
        "colab_type": "code",
        "colab": {}
      },
      "source": [
        "x_train.shape[-2:]"
      ],
      "execution_count": 0,
      "outputs": []
    },
    {
      "cell_type": "code",
      "metadata": {
        "id": "xdTLFZIwuIkk",
        "colab_type": "code",
        "colab": {}
      },
      "source": [
        "BATCH_SIZE = 96\n",
        "BUFFER_SIZE = 10000\n",
        "\n",
        "train = tf.data.Dataset.from_tensor_slices((x_train, y_train))\n",
        "train = train.cache().shuffle(BUFFER_SIZE).batch(BATCH_SIZE).repeat()\n",
        "\n",
        "validation = tf.data.Dataset.from_tensor_slices((x_validation, y_validation))\n",
        "validation = validation.batch(BATCH_SIZE).repeat()"
      ],
      "execution_count": 0,
      "outputs": []
    },
    {
      "cell_type": "markdown",
      "metadata": {
        "id": "IGlodvBnGuo_",
        "colab_type": "text"
      },
      "source": [
        "### 모델을 구성합니다.\n",
        "전력사용량 데이터는 일 단위의 주기적인 추세가 있으므로 BATCH_SIZE는 96(15분*24시간=96)으로 하는 것이 적절합니다. "
      ]
    },
    {
      "cell_type": "code",
      "metadata": {
        "colab_type": "code",
        "id": "IDbpHosCMWZO",
        "colab": {}
      },
      "source": [
        "HIDDEN_SIZE = 20\n",
        "EPOCHS = 10\n",
        "\n",
        "model = tf.keras.models.Sequential()\n",
        "model.add(tf.keras.layers.LSTM(HIDDEN_SIZE, \n",
        "                               input_shape=(HISTORY_DATA_SIZE, 1),\n",
        "                               return_sequences=False))\n",
        "model.add(tf.keras.layers.Dropout(0.3))\n",
        "model.add(tf.keras.layers.Dense(1))"
      ],
      "execution_count": 0,
      "outputs": []
    },
    {
      "cell_type": "markdown",
      "metadata": {
        "id": "kU2WXx5_PF4O",
        "colab_type": "text"
      },
      "source": [
        "### 모델을 구성한 후 compile 메서드를 호출하여 학습 과정을 설정합니다."
      ]
    },
    {
      "cell_type": "code",
      "metadata": {
        "id": "gyekA0ZlPH7f",
        "colab_type": "code",
        "colab": {}
      },
      "source": [
        "model.compile(loss=\"mean_squared_error\", optimizer=\"adam\",\n",
        "              metrics=[\"mean_squared_error\", \"mean_absolute_error\"])"
      ],
      "execution_count": 0,
      "outputs": []
    },
    {
      "cell_type": "markdown",
      "metadata": {
        "id": "RYjcbOVjO5-D",
        "colab_type": "text"
      },
      "source": [
        "### 모델은 fit 메서드를 통해서 훈련 데이터를 학습합니다.\n",
        "* steps_per_epoch은 한 epoch에 사용한 스텝수\n",
        "* steps_per_epoch = train_size / batch_size  = 69600/96 = 725\n",
        "* validation_steps는 한 epoch 종료시마다 검증할 때 사용되는 검증 스텝수\n",
        "* validation_steps = validation / batch size  = 34608/96 = 360\n"
      ]
    },
    {
      "cell_type": "code",
      "metadata": {
        "id": "z6uWusBvOu6a",
        "colab_type": "code",
        "colab": {}
      },
      "source": [
        "# STEPS_PER_EPOCH = 200\n",
        "# VALIDATION_STEPS = 50\n",
        "STEPS_PER_EPOCH = 725\n",
        "VALIDATION_STEPS = 360\n",
        "\n",
        "history = model.fit(train, epochs=EPOCHS,\n",
        "          steps_per_epoch=STEPS_PER_EPOCH,\n",
        "          validation_data=validation, validation_steps=VALIDATION_STEPS)"
      ],
      "execution_count": 0,
      "outputs": []
    },
    {
      "cell_type": "code",
      "metadata": {
        "id": "yqU5ji5D4WII",
        "colab_type": "code",
        "colab": {}
      },
      "source": [
        "loss_and_metrics = model.evaluate(x_validation, y_validation)\n",
        "print(loss_and_metrics)"
      ],
      "execution_count": 0,
      "outputs": []
    },
    {
      "cell_type": "code",
      "metadata": {
        "id": "zXHYV-7tiyWK",
        "colab_type": "code",
        "colab": {}
      },
      "source": [
        "plot_train_history(history, 'Single Step Training and validation loss')"
      ],
      "execution_count": 0,
      "outputs": []
    },
    {
      "cell_type": "markdown",
      "metadata": {
        "id": "UtKALcxMjEcz",
        "colab_type": "text"
      },
      "source": [
        "#### LSTM model로 전력사용량을 예측합니다."
      ]
    },
    {
      "cell_type": "code",
      "metadata": {
        "id": "biHEAgq4jG3F",
        "colab_type": "code",
        "colab": {}
      },
      "source": [
        "for i in range(0,10):\n",
        "    input_data = x_validation[i:i+1,:,:]\n",
        "    prediction = model.predict(input_data,  batch_size=1)\n",
        "    prediction_value = prediction[0][0]\n",
        "    power_usage = np.array([y_validation[i]])\n",
        "    print(\"Prediction Value : {:.2f}, Power Usage : {:.2f}\".format(prediction_value*train_data_std+train_data_std, power_usage[0]*train_data_std+train_data_std))\n",
        "    plot = show_plot([input_data[0], power_usage, prediction_value], 0, 'Simple LSTM model')\n",
        "    plot.show()\n"
      ],
      "execution_count": 0,
      "outputs": []
    },
    {
      "cell_type": "code",
      "metadata": {
        "id": "Uk-Zo4Kf1U83",
        "colab_type": "code",
        "colab": {}
      },
      "source": [
        "x = model.predict(x_train[:,:,:])*train_data_std+train_data_mean\n",
        "y = y_train*train_data_std+train_data_mean\n",
        "\n",
        "plt.plot(x, 'r--', label=\"Prediction Value\")\n",
        "plt.plot(y, 'b-', label=\"Power Usage\")\n",
        "plt.xlim(1, 96*31)\n",
        "plt.legend()\n",
        "plt.title(\"15min Power Usage(Month)\")\n",
        "plt.show()"
      ],
      "execution_count": 0,
      "outputs": []
    },
    {
      "cell_type": "code",
      "metadata": {
        "id": "NPx485-J9pWX",
        "colab_type": "code",
        "colab": {}
      },
      "source": [
        "plt.plot(x, 'r--', label=\"Prediction Value\")\n",
        "plt.plot(y, 'b-', label=\"Power Usage\")\n",
        "plt.xlim(96*200, 96*201)\n",
        "plt.legend()\n",
        "plt.title(\"15min Power Usage(Day)\")\n",
        "plt.show()"
      ],
      "execution_count": 0,
      "outputs": []
    },
    {
      "cell_type": "code",
      "metadata": {
        "id": "YqxIs6URAlvt",
        "colab_type": "code",
        "colab": {}
      },
      "source": [
        "x.flatten()"
      ],
      "execution_count": 0,
      "outputs": []
    },
    {
      "cell_type": "code",
      "metadata": {
        "id": "0w-O6tVXAmhf",
        "colab_type": "code",
        "colab": {}
      },
      "source": [
        "y"
      ],
      "execution_count": 0,
      "outputs": []
    },
    {
      "cell_type": "markdown",
      "metadata": {
        "id": "SO29EGDa3M2o",
        "colab_type": "text"
      },
      "source": [
        "### 모델 저장하기"
      ]
    },
    {
      "cell_type": "code",
      "metadata": {
        "id": "bMz8JgU43RNp",
        "colab_type": "code",
        "colab": {}
      },
      "source": [
        "m_name = os.path.splitext(file_name)[0]\n",
        "model_json = model.to_json()\n",
        "with open(colab_dir + '/model/' + m_name + '.json', 'w') as f : \n",
        "    f.write(model_json)\n",
        "model.save_weights(colab_dir + '/model/' + m_name + '.h5')\n",
        "print(\"Saved model to disk\")"
      ],
      "execution_count": 0,
      "outputs": []
    },
    {
      "cell_type": "markdown",
      "metadata": {
        "id": "AlZOUog5Pjpj",
        "colab_type": "text"
      },
      "source": [
        "저장한 모델 불러오기"
      ]
    },
    {
      "cell_type": "code",
      "metadata": {
        "id": "Q91RNkrnPovn",
        "colab_type": "code",
        "colab": {}
      },
      "source": [
        "json_file = open(colab_dir +'/model/' + m_name + '.json', 'r')\n",
        "loaded_model_json = json_file.read() \n",
        "json_file.close()\n",
        "simple_lstm_model = tf.keras.models.model_from_json(loaded_model_json)\n",
        "simple_lstm_model.load_weights(colab_dir +'/model/' + m_name + '.h5'\")\n",
        "print(\"Loaded model from disk\")"
      ],
      "execution_count": 0,
      "outputs": []
    },
    {
      "cell_type": "markdown",
      "metadata": {
        "id": "WgAk9cFNQeh2",
        "colab_type": "text"
      },
      "source": [
        "#### 저장한 model을 사용하여 전력사용량 예측"
      ]
    },
    {
      "cell_type": "code",
      "metadata": {
        "id": "cBY9NnPoQFHj",
        "colab_type": "code",
        "colab": {}
      },
      "source": [
        "for i in range(0,10):\n",
        "    input_data = x_test[i:i+1,:,:]\n",
        "    prediction = simple_lstm_model.predict(input_data,  batch_size=1)\n",
        "    prediction_value = prediction[0][0]\n",
        "    power_usage = np.array([y_validation[i]])\n",
        "    print(\"Prediction Value : {:.2f}\".format(prediction_value*train_data_std+train_data_mean))"
      ],
      "execution_count": 0,
      "outputs": []
    },
    {
      "cell_type": "markdown",
      "metadata": {
        "id": "18__Bf2SImc4",
        "colab_type": "text"
      },
      "source": [
        ""
      ]
    }
  ]
}