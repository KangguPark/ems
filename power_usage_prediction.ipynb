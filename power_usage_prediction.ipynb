{
  "nbformat": 4,
  "nbformat_minor": 0,
  "metadata": {
    "kernelspec": {
      "display_name": "Python 3",
      "language": "python",
      "name": "python3"
    },
    "language_info": {
      "codemirror_mode": {
        "name": "ipython",
        "version": 3
      },
      "file_extension": ".py",
      "mimetype": "text/x-python",
      "name": "python",
      "nbconvert_exporter": "python",
      "pygments_lexer": "ipython3",
      "version": "3.7.6"
    },
    "nav_menu": {},
    "toc": {
      "navigate_menu": true,
      "number_sections": true,
      "sideBar": true,
      "threshold": 6,
      "toc_cell": false,
      "toc_section_display": "block",
      "toc_window_display": false
    },
    "colab": {
      "name": "power_usage_prediction.ipynb",
      "provenance": [],
      "collapsed_sections": []
    },
    "accelerator": "GPU"
  },
  "cells": [
    {
      "cell_type": "code",
      "metadata": {
        "id": "ukN5RXCdVT6U",
        "colab_type": "code",
        "colab": {}
      },
      "source": [
        ""
      ],
      "execution_count": 0,
      "outputs": []
    },
    {
      "cell_type": "markdown",
      "metadata": {
        "id": "enmohzXupt-A",
        "colab_type": "text"
      },
      "source": [
        "## 필요한 라이브러리를 로드합니다."
      ]
    },
    {
      "cell_type": "code",
      "metadata": {
        "id": "aAkJFBoWpt-B",
        "colab_type": "code",
        "colab": {}
      },
      "source": [
        "import os\n",
        "import numpy as np\n",
        "import pandas as pd\n",
        "\n",
        "import sklearn\n",
        "import tensorflow as tf\n",
        "from tensorflow import keras\n",
        "\n",
        "from google.colab import auth\n",
        "from google.colab import drive\n",
        "\n",
        "%matplotlib inline\n",
        "import matplotlib as mpl\n",
        "import matplotlib.pyplot as plt\n",
        "mpl.rc('axes', labelsize=14)\n",
        "mpl.rc('xtick', labelsize=12)\n",
        "mpl.rc('ytick', labelsize=12)"
      ],
      "execution_count": 0,
      "outputs": []
    },
    {
      "cell_type": "markdown",
      "metadata": {
        "id": "aLU6U-VZtyAh",
        "colab_type": "text"
      },
      "source": [
        "### 데이터 로드를 위해 구글 드라이브를 연동합니다."
      ]
    },
    {
      "cell_type": "code",
      "metadata": {
        "id": "Lx8J1J-wtvFq",
        "colab_type": "code",
        "outputId": "3c21624e-d043-4333-de57-3041638a8af8",
        "colab": {
          "base_uri": "https://localhost:8080/",
          "height": 54
        }
      },
      "source": [
        "drive.mount(\"/content/gdrive\")"
      ],
      "execution_count": 25,
      "outputs": [
        {
          "output_type": "stream",
          "text": [
            "Drive already mounted at /content/gdrive; to attempt to forcibly remount, call drive.mount(\"/content/gdrive\", force_remount=True).\n"
          ],
          "name": "stdout"
        }
      ]
    },
    {
      "cell_type": "markdown",
      "metadata": {
        "id": "KZyNdLXQbX-S",
        "colab_type": "text"
      },
      "source": [
        "## 15분 전력사용량 데이터를 로드합니다. "
      ]
    },
    {
      "cell_type": "code",
      "metadata": {
        "id": "iw-NM54YVY-p",
        "colab_type": "code",
        "colab": {}
      },
      "source": [
        "colab_dir ='/content/gdrive/My Drive/Colab Notebooks'\n",
        "file_name = 'power_usage_201.csv'\n",
        "data_file = os.path.join(colab_dir, \"data\", file_name)\n",
        "\n",
        "df = pd.read_csv(data_file, header = 0, delimiter = ',', quoting = 3)\n",
        "df.index = df['daq_time']"
      ],
      "execution_count": 0,
      "outputs": []
    },
    {
      "cell_type": "markdown",
      "metadata": {
        "id": "NzAWUvNdhxMC",
        "colab_type": "text"
      },
      "source": [
        "## 데이터를 확인합니다."
      ]
    },
    {
      "cell_type": "code",
      "metadata": {
        "id": "K21LYh53hpyh",
        "colab_type": "code",
        "outputId": "bba15478-592e-4726-a6a2-071f4bbeb065",
        "colab": {
          "base_uri": "https://localhost:8080/",
          "height": 284
        }
      },
      "source": [
        "df.describe()"
      ],
      "execution_count": 27,
      "outputs": [
        {
          "output_type": "execute_result",
          "data": {
            "text/html": [
              "<div>\n",
              "<style scoped>\n",
              "    .dataframe tbody tr th:only-of-type {\n",
              "        vertical-align: middle;\n",
              "    }\n",
              "\n",
              "    .dataframe tbody tr th {\n",
              "        vertical-align: top;\n",
              "    }\n",
              "\n",
              "    .dataframe thead th {\n",
              "        text-align: right;\n",
              "    }\n",
              "</style>\n",
              "<table border=\"1\" class=\"dataframe\">\n",
              "  <thead>\n",
              "    <tr style=\"text-align: right;\">\n",
              "      <th></th>\n",
              "      <th>power_usage</th>\n",
              "    </tr>\n",
              "  </thead>\n",
              "  <tbody>\n",
              "    <tr>\n",
              "      <th>count</th>\n",
              "      <td>140256.000000</td>\n",
              "    </tr>\n",
              "    <tr>\n",
              "      <th>mean</th>\n",
              "      <td>242.393145</td>\n",
              "    </tr>\n",
              "    <tr>\n",
              "      <th>std</th>\n",
              "      <td>72.339054</td>\n",
              "    </tr>\n",
              "    <tr>\n",
              "      <th>min</th>\n",
              "      <td>0.000000</td>\n",
              "    </tr>\n",
              "    <tr>\n",
              "      <th>25%</th>\n",
              "      <td>189.859155</td>\n",
              "    </tr>\n",
              "    <tr>\n",
              "      <th>50%</th>\n",
              "      <td>249.014085</td>\n",
              "    </tr>\n",
              "    <tr>\n",
              "      <th>75%</th>\n",
              "      <td>288.450704</td>\n",
              "    </tr>\n",
              "    <tr>\n",
              "      <th>max</th>\n",
              "      <td>479.436620</td>\n",
              "    </tr>\n",
              "  </tbody>\n",
              "</table>\n",
              "</div>"
            ],
            "text/plain": [
              "         power_usage\n",
              "count  140256.000000\n",
              "mean      242.393145\n",
              "std        72.339054\n",
              "min         0.000000\n",
              "25%       189.859155\n",
              "50%       249.014085\n",
              "75%       288.450704\n",
              "max       479.436620"
            ]
          },
          "metadata": {
            "tags": []
          },
          "execution_count": 27
        }
      ]
    },
    {
      "cell_type": "code",
      "metadata": {
        "id": "f3RQRgxZKApD",
        "colab_type": "code",
        "outputId": "983f776b-6157-47f3-f406-b4f857e8b84f",
        "colab": {
          "base_uri": "https://localhost:8080/",
          "height": 225
        }
      },
      "source": [
        "df.head()"
      ],
      "execution_count": 28,
      "outputs": [
        {
          "output_type": "execute_result",
          "data": {
            "text/html": [
              "<div>\n",
              "<style scoped>\n",
              "    .dataframe tbody tr th:only-of-type {\n",
              "        vertical-align: middle;\n",
              "    }\n",
              "\n",
              "    .dataframe tbody tr th {\n",
              "        vertical-align: top;\n",
              "    }\n",
              "\n",
              "    .dataframe thead th {\n",
              "        text-align: right;\n",
              "    }\n",
              "</style>\n",
              "<table border=\"1\" class=\"dataframe\">\n",
              "  <thead>\n",
              "    <tr style=\"text-align: right;\">\n",
              "      <th></th>\n",
              "      <th>daq_time</th>\n",
              "      <th>power_usage</th>\n",
              "    </tr>\n",
              "    <tr>\n",
              "      <th>daq_time</th>\n",
              "      <th></th>\n",
              "      <th></th>\n",
              "    </tr>\n",
              "  </thead>\n",
              "  <tbody>\n",
              "    <tr>\n",
              "      <th>2011-01-01 00:15</th>\n",
              "      <td>2011-01-01 00:15</td>\n",
              "      <td>235.492958</td>\n",
              "    </tr>\n",
              "    <tr>\n",
              "      <th>2011-01-01 00:30</th>\n",
              "      <td>2011-01-01 00:30</td>\n",
              "      <td>239.436620</td>\n",
              "    </tr>\n",
              "    <tr>\n",
              "      <th>2011-01-01 00:45</th>\n",
              "      <td>2011-01-01 00:45</td>\n",
              "      <td>228.732394</td>\n",
              "    </tr>\n",
              "    <tr>\n",
              "      <th>2011-01-01 01:00</th>\n",
              "      <td>2011-01-01 01:00</td>\n",
              "      <td>230.422535</td>\n",
              "    </tr>\n",
              "    <tr>\n",
              "      <th>2011-01-01 01:15</th>\n",
              "      <td>2011-01-01 01:15</td>\n",
              "      <td>225.352113</td>\n",
              "    </tr>\n",
              "  </tbody>\n",
              "</table>\n",
              "</div>"
            ],
            "text/plain": [
              "                          daq_time  power_usage\n",
              "daq_time                                       \n",
              "2011-01-01 00:15  2011-01-01 00:15   235.492958\n",
              "2011-01-01 00:30  2011-01-01 00:30   239.436620\n",
              "2011-01-01 00:45  2011-01-01 00:45   228.732394\n",
              "2011-01-01 01:00  2011-01-01 01:00   230.422535\n",
              "2011-01-01 01:15  2011-01-01 01:15   225.352113"
            ]
          },
          "metadata": {
            "tags": []
          },
          "execution_count": 28
        }
      ]
    },
    {
      "cell_type": "code",
      "metadata": {
        "id": "INA8ctHUVnCM",
        "colab_type": "code",
        "outputId": "e2b81e1a-fad6-489e-fd98-01706a43fdc0",
        "colab": {
          "base_uri": "https://localhost:8080/",
          "height": 225
        }
      },
      "source": [
        "df.tail()"
      ],
      "execution_count": 29,
      "outputs": [
        {
          "output_type": "execute_result",
          "data": {
            "text/html": [
              "<div>\n",
              "<style scoped>\n",
              "    .dataframe tbody tr th:only-of-type {\n",
              "        vertical-align: middle;\n",
              "    }\n",
              "\n",
              "    .dataframe tbody tr th {\n",
              "        vertical-align: top;\n",
              "    }\n",
              "\n",
              "    .dataframe thead th {\n",
              "        text-align: right;\n",
              "    }\n",
              "</style>\n",
              "<table border=\"1\" class=\"dataframe\">\n",
              "  <thead>\n",
              "    <tr style=\"text-align: right;\">\n",
              "      <th></th>\n",
              "      <th>daq_time</th>\n",
              "      <th>power_usage</th>\n",
              "    </tr>\n",
              "    <tr>\n",
              "      <th>daq_time</th>\n",
              "      <th></th>\n",
              "      <th></th>\n",
              "    </tr>\n",
              "  </thead>\n",
              "  <tbody>\n",
              "    <tr>\n",
              "      <th>2014-12-31 23:00</th>\n",
              "      <td>2014-12-31 23:00</td>\n",
              "      <td>149.295775</td>\n",
              "    </tr>\n",
              "    <tr>\n",
              "      <th>2014-12-31 23:15</th>\n",
              "      <td>2014-12-31 23:15</td>\n",
              "      <td>151.549296</td>\n",
              "    </tr>\n",
              "    <tr>\n",
              "      <th>2014-12-31 23:30</th>\n",
              "      <td>2014-12-31 23:30</td>\n",
              "      <td>147.042254</td>\n",
              "    </tr>\n",
              "    <tr>\n",
              "      <th>2014-12-31 23:45</th>\n",
              "      <td>2014-12-31 23:45</td>\n",
              "      <td>142.535211</td>\n",
              "    </tr>\n",
              "    <tr>\n",
              "      <th>2015-01-01 00:00</th>\n",
              "      <td>2015-01-01 00:00</td>\n",
              "      <td>143.098592</td>\n",
              "    </tr>\n",
              "  </tbody>\n",
              "</table>\n",
              "</div>"
            ],
            "text/plain": [
              "                          daq_time  power_usage\n",
              "daq_time                                       \n",
              "2014-12-31 23:00  2014-12-31 23:00   149.295775\n",
              "2014-12-31 23:15  2014-12-31 23:15   151.549296\n",
              "2014-12-31 23:30  2014-12-31 23:30   147.042254\n",
              "2014-12-31 23:45  2014-12-31 23:45   142.535211\n",
              "2015-01-01 00:00  2015-01-01 00:00   143.098592"
            ]
          },
          "metadata": {
            "tags": []
          },
          "execution_count": 29
        }
      ]
    },
    {
      "cell_type": "code",
      "metadata": {
        "id": "4MntETYUKVEg",
        "colab_type": "code",
        "outputId": "7bbb61c0-764e-48e0-9812-888d10028abb",
        "colab": {
          "base_uri": "https://localhost:8080/",
          "height": 304
        }
      },
      "source": [
        "df_week = df.iloc[0:96*7]\n",
        "df_week[\"power_usage\"].plot()"
      ],
      "execution_count": 30,
      "outputs": [
        {
          "output_type": "execute_result",
          "data": {
            "text/plain": [
              "<matplotlib.axes._subplots.AxesSubplot at 0x7f62b7786eb8>"
            ]
          },
          "metadata": {
            "tags": []
          },
          "execution_count": 30
        },
        {
          "output_type": "display_data",
          "data": {
            "image/png": "[encoded data removed]",
            "text/plain": [
              "<Figure size 432x288 with 1 Axes>"
            ]
          },
          "metadata": {
            "tags": [],
            "needs_background": "light"
          }
        }
      ]
    },
    {
      "cell_type": "code",
      "metadata": {
        "id": "mL5GKmW1V5C6",
        "colab_type": "code",
        "colab": {}
      },
      "source": [
        "series = df['power_usage'].values"
      ],
      "execution_count": 0,
      "outputs": []
    },
    {
      "cell_type": "markdown",
      "metadata": {
        "id": "gujCHp_LcWb2",
        "colab_type": "text"
      },
      "source": [
        "### 데이터셋을 입력데이터와 타깃데이터로 분리하는 함수입니다."
      ]
    },
    {
      "cell_type": "code",
      "metadata": {
        "id": "g5Rj6jl7cZRt",
        "colab_type": "code",
        "colab": {}
      },
      "source": [
        "def split_data_input_label(dataset, start_index, end_index, hist_data_size, target_size):\n",
        "    data = []\n",
        "    labels = []\n",
        "\n",
        "    start_index = start_index + hist_data_size\n",
        "    if end_index is None:\n",
        "        end_index = len(dataset) - target_size\n",
        "\n",
        "    for i in range(start_index, end_index):\n",
        "        indices = range(i-hist_data_size, i)\n",
        "        # Reshape data from (hist_data_size,) to (hist_data_size, 1)\n",
        "        data.append(np.reshape(dataset[indices], (hist_data_size, 1)))\n",
        "        labels.append([dataset[i+target_size]])\n",
        "    return np.array(data), np.array(labels)"
      ],
      "execution_count": 0,
      "outputs": []
    },
    {
      "cell_type": "markdown",
      "metadata": {
        "id": "NqjPWMC6g6H7",
        "colab_type": "text"
      },
      "source": [
        "## 시계열 데이터를 정규화합니다.\n",
        " \n",
        "\n",
        "* 상이한 스케일을 가진 값을 신경망에 주입하면 신경망 훈련이 어려우므로 데이터를 정규화합니다.\n",
        "* 정규화 방법은 훈련데이터의 각 피처(feature)에서 평균을 빼고 각 피처의 표준편차로 나눕니다.\n",
        "* 데이터 정규화를 통해 데이터의 평균은 0, 표준편차는 1인 데이터셋이 만들어집니다.\n",
        "* 훈련 데이터 값만 이용하여 데이터를 정규화 합니다.\n"
      ]
    },
    {
      "cell_type": "code",
      "metadata": {
        "id": "gnZ4kgXFgn3A",
        "colab_type": "code",
        "colab": {}
      },
      "source": [
        "train_split = 70080 # 365일 * 2년 * 96개데이터\n",
        "test_split = 105120 # 365일 * 3년 * 96개데이터\n",
        "\n",
        "train_data_mean = series[:train_split].mean()\n",
        "train_data_std = series[:train_split].std()\n",
        "dataset = (series - train_data_mean)/train_data_std"
      ],
      "execution_count": 0,
      "outputs": []
    },
    {
      "cell_type": "markdown",
      "metadata": {
        "id": "5EW7aFpBgpxM",
        "colab_type": "text"
      },
      "source": [
        "## 훈련 데이터셋과 검증 데이터셋으로 데이터를 분할합니다."
      ]
    },
    {
      "cell_type": "code",
      "metadata": {
        "id": "VUqXWe4fXTtd",
        "colab_type": "code",
        "colab": {}
      },
      "source": [
        "n_steps = 20\n",
        "future_target = 0\n",
        "\n",
        "X_train, y_train = split_data_input_label(dataset, 0,train_split, \n",
        "                                          n_steps, \n",
        "                                          future_target)\n",
        "X_valid, y_valid = split_data_input_label(dataset,train_split,test_split, \n",
        "                                          n_steps, \n",
        "                                          future_target)\n",
        "X_test, _ = split_data_input_label(dataset, test_split, test_split+1000, \n",
        "                                   n_steps, \n",
        "                                   future_target)"
      ],
      "execution_count": 0,
      "outputs": []
    },
    {
      "cell_type": "markdown",
      "metadata": {
        "id": "v6lsIm6hezKe",
        "colab_type": "text"
      },
      "source": [
        "## 입력데이터, 타깃데이터, 예측데이터를 그래프로 출력하는 함수입니다."
      ]
    },
    {
      "cell_type": "code",
      "metadata": {
        "id": "RngUfpHRkiM9",
        "colab_type": "code",
        "colab": {}
      },
      "source": [
        "def plot_series(series, y=None, y_pred=None, x_label=\"$t$\", y_label=\"$x(t)$\"):\n",
        "    plt.plot(series, \".-\")\n",
        "    if y is not None:\n",
        "        plt.plot(n_steps, y, \"bx\", markersize=10)\n",
        "    if y_pred is not None:\n",
        "        plt.plot(n_steps, y_pred, \"ro\")\n",
        "    plt.grid(True)\n",
        "    if x_label:\n",
        "        plt.xlabel(x_label, fontsize=16)\n",
        "    if y_label:\n",
        "        plt.ylabel(y_label, fontsize=16, rotation=0)\n",
        "    plt.hlines(0, 0, 100, linewidth=1)\n",
        "    plt.axis([0, n_steps + 1, min(series) - abs(min(series)/10) , max(series) + abs(max(series)/10)])"
      ],
      "execution_count": 0,
      "outputs": []
    },
    {
      "cell_type": "code",
      "metadata": {
        "id": "ifJyjNRnjO6B",
        "colab_type": "code",
        "outputId": "c5506b9d-9adf-4023-eb93-ee74e9c8de84",
        "colab": {
          "base_uri": "https://localhost:8080/",
          "height": 288
        }
      },
      "source": [
        "fig, axes = plt.subplots(nrows=1, ncols=3, sharey=True, figsize=(12, 4))\n",
        "for col in range(3):\n",
        "    plt.sca(axes[col])\n",
        "    plot_series(X_valid[col, :, 0], y_valid[col, 0],\n",
        "                y_label=(\"$x(t)$\" if col==0 else None))\n",
        "plt.show()"
      ],
      "execution_count": 36,
      "outputs": [
        {
          "output_type": "display_data",
          "data": {
            "image/png": "[encoded data removed]",
            "text/plain": [
              "<Figure size 864x288 with 3 Axes>"
            ]
          },
          "metadata": {
            "tags": [],
            "needs_background": "light"
          }
        }
      ]
    },
    {
      "cell_type": "markdown",
      "metadata": {
        "id": "akz9MbEhjm9x",
        "colab_type": "text"
      },
      "source": [
        "## 신경망 모델 구성 설정 "
      ]
    },
    {
      "cell_type": "code",
      "metadata": {
        "id": "XwyOUlSexc7h",
        "colab_type": "code",
        "outputId": "d4098441-a74d-47ac-c8ec-5a0c784e3876",
        "colab": {
          "base_uri": "https://localhost:8080/",
          "height": 389
        }
      },
      "source": [
        "np.random.seed(42)\n",
        "tf.random.set_seed(42)\n",
        "\n",
        "model = keras.models.Sequential([\n",
        "    keras.layers.LSTM(20, return_sequences=True, input_shape=[None, 1]),\n",
        "    keras.layers.LSTM(20),\n",
        "    keras.layers.Dense(1)\n",
        "])\n",
        "\n",
        "model.compile(loss=\"mse\", optimizer=\"adam\", metrics=[\"mean_squared_error\", \"mean_absolute_error\"])\n",
        "history = model.fit(X_train, y_train, epochs=10,\n",
        "                    validation_data=(X_valid, y_valid))"
      ],
      "execution_count": 37,
      "outputs": [
        {
          "output_type": "stream",
          "text": [
            "Epoch 1/10\n",
            "2190/2190 [==============================] - 30s 14ms/step - loss: 0.0580 - mean_squared_error: 0.0580 - mean_absolute_error: 0.1639 - val_loss: 0.0304 - val_mean_squared_error: 0.0304 - val_mean_absolute_error: 0.1211\n",
            "Epoch 2/10\n",
            "2190/2190 [==============================] - 29s 13ms/step - loss: 0.0337 - mean_squared_error: 0.0337 - mean_absolute_error: 0.1331 - val_loss: 0.0295 - val_mean_squared_error: 0.0295 - val_mean_absolute_error: 0.1231\n",
            "Epoch 3/10\n",
            "2190/2190 [==============================] - 29s 13ms/step - loss: 0.0329 - mean_squared_error: 0.0329 - mean_absolute_error: 0.1317 - val_loss: 0.0302 - val_mean_squared_error: 0.0302 - val_mean_absolute_error: 0.1273\n",
            "Epoch 4/10\n",
            "2190/2190 [==============================] - 29s 13ms/step - loss: 0.0325 - mean_squared_error: 0.0325 - mean_absolute_error: 0.1311 - val_loss: 0.0308 - val_mean_squared_error: 0.0308 - val_mean_absolute_error: 0.1259\n",
            "Epoch 5/10\n",
            "2190/2190 [==============================] - 29s 13ms/step - loss: 0.0319 - mean_squared_error: 0.0319 - mean_absolute_error: 0.1300 - val_loss: 0.0308 - val_mean_squared_error: 0.0308 - val_mean_absolute_error: 0.1226\n",
            "Epoch 6/10\n",
            "2190/2190 [==============================] - 29s 13ms/step - loss: 0.0314 - mean_squared_error: 0.0314 - mean_absolute_error: 0.1291 - val_loss: 0.0290 - val_mean_squared_error: 0.0290 - val_mean_absolute_error: 0.1216\n",
            "Epoch 7/10\n",
            "2190/2190 [==============================] - 29s 13ms/step - loss: 0.0310 - mean_squared_error: 0.0310 - mean_absolute_error: 0.1285 - val_loss: 0.0286 - val_mean_squared_error: 0.0286 - val_mean_absolute_error: 0.1215\n",
            "Epoch 8/10\n",
            "2190/2190 [==============================] - 29s 13ms/step - loss: 0.0307 - mean_squared_error: 0.0307 - mean_absolute_error: 0.1280 - val_loss: 0.0282 - val_mean_squared_error: 0.0282 - val_mean_absolute_error: 0.1198\n",
            "Epoch 9/10\n",
            "2190/2190 [==============================] - 30s 14ms/step - loss: 0.0303 - mean_squared_error: 0.0303 - mean_absolute_error: 0.1272 - val_loss: 0.0280 - val_mean_squared_error: 0.0280 - val_mean_absolute_error: 0.1216\n",
            "Epoch 10/10\n",
            "2190/2190 [==============================] - 29s 13ms/step - loss: 0.0301 - mean_squared_error: 0.0301 - mean_absolute_error: 0.1267 - val_loss: 0.0280 - val_mean_squared_error: 0.0280 - val_mean_absolute_error: 0.1200\n"
          ],
          "name": "stdout"
        }
      ]
    },
    {
      "cell_type": "markdown",
      "metadata": {
        "id": "955KwcDSkFiZ",
        "colab_type": "text"
      },
      "source": [
        "신경망 모델의 학습상태를 출력하는 함수입니다."
      ]
    },
    {
      "cell_type": "code",
      "metadata": {
        "id": "tjpStVEhpt-I",
        "colab_type": "code",
        "outputId": "02f6e352-4998-495c-a5bb-3672d63bf423",
        "colab": {
          "base_uri": "https://localhost:8080/",
          "height": 291
        }
      },
      "source": [
        "def plot_learning_curves(loss, val_loss):\n",
        "    plt.plot(np.arange(len(loss)) + 0.5, loss, \"b.-\", label=\"Training loss\")\n",
        "    plt.plot(np.arange(len(val_loss)) + 1, val_loss, \"r.-\", label=\"Validation loss\")\n",
        "    plt.gca().xaxis.set_major_locator(mpl.ticker.MaxNLocator(integer=True))\n",
        "    plt.axis([1, 10, 0, 0.05])\n",
        "    plt.legend(fontsize=14)\n",
        "    plt.xlabel(\"Epochs\")\n",
        "    plt.ylabel(\"Loss\")\n",
        "    plt.grid(True)\n",
        "\n",
        "plot_learning_curves(history.history[\"loss\"], history.history[\"val_loss\"])\n",
        "plt.show()"
      ],
      "execution_count": 38,
      "outputs": [
        {
          "output_type": "display_data",
          "data": {
            "image/png": "[encoded data removed]",
            "text/plain": [
              "<Figure size 432x288 with 1 Axes>"
            ]
          },
          "metadata": {
            "tags": [],
            "needs_background": "light"
          }
        }
      ]
    },
    {
      "cell_type": "markdown",
      "metadata": {
        "id": "-ByU7qm9krul",
        "colab_type": "text"
      },
      "source": [
        "## 검증 데이터셋으로 신경망 모델을 평가합니다."
      ]
    },
    {
      "cell_type": "code",
      "metadata": {
        "id": "igxMlk1Ept-0",
        "colab_type": "code",
        "outputId": "0d5e5d28-3bdd-41c7-c1fb-08f0134c38e2",
        "colab": {
          "base_uri": "https://localhost:8080/",
          "height": 72
        }
      },
      "source": [
        "model.evaluate(X_valid, y_valid)"
      ],
      "execution_count": 39,
      "outputs": [
        {
          "output_type": "stream",
          "text": [
            "1095/1095 [==============================] - 6s 5ms/step - loss: 0.0280 - mean_squared_error: 0.0280 - mean_absolute_error: 0.1200\n"
          ],
          "name": "stdout"
        },
        {
          "output_type": "execute_result",
          "data": {
            "text/plain": [
              "[0.02804815024137497, 0.02804815024137497, 0.12000586837530136]"
            ]
          },
          "metadata": {
            "tags": []
          },
          "execution_count": 39
        }
      ]
    },
    {
      "cell_type": "markdown",
      "metadata": {
        "id": "2dDO7Yo3mfgs",
        "colab_type": "text"
      },
      "source": [
        "## 예측 결과를 확인합니다."
      ]
    },
    {
      "cell_type": "code",
      "metadata": {
        "id": "k7riqZKkaORa",
        "colab_type": "code",
        "outputId": "22c7ddf9-1525-4cae-8ae6-3e2e49601a4f",
        "colab": {
          "base_uri": "https://localhost:8080/",
          "height": 394
        }
      },
      "source": [
        "start = 100\n",
        "fig, axes = plt.subplots(nrows=1, ncols=1, sharey=True, figsize=(12, 4))\n",
        "y_pred = model.predict(X_valid[start].reshape(1, 20, 1))\n",
        "plot_series(X_valid[start, :, 0]*train_data_std+train_data_mean, \n",
        "            y_valid[start, 0]*train_data_std+train_data_mean, \n",
        "            y_pred[0, 0]*train_data_std+train_data_mean)\n",
        "\n",
        "input_data = X_valid[start, :, 0]*train_data_std+train_data_mean\n",
        "print(\"입력 데이터 : {}\".format(np.round(input_data,2)))\n",
        "predict_value = y_pred[0, 0]*train_data_std+train_data_mean\n",
        "print(\"예측값 : {}\".format(round(predict_value, 2)))\n",
        "real_value = y_valid[start, 0]*train_data_std+train_data_mean\n",
        "print(\"실제값 : {}\".format(round(real_value)))\n",
        "error = abs(predict_value-real_value)\n",
        "error_rate = error/real_value*100\n",
        "print(\"에러값 : {}\".format(round(error, 2)))\n",
        "print(\"에러율 : {}%\".format(round(error_rate, 2)))"
      ],
      "execution_count": 40,
      "outputs": [
        {
          "output_type": "stream",
          "text": [
            "입력 데이터 : [98.59 98.03 98.03 94.08 89.58 90.7  86.76 85.63 84.51 91.83 87.89 82.82\n",
            " 89.58 86.76 86.2  87.32 82.82 87.32 85.63 85.63]\n",
            "예측값 : 91.29\n",
            "실제값 : 92.0\n",
            "에러값 : 0.54\n",
            "에러율 : 0.59%\n"
          ],
          "name": "stdout"
        },
        {
          "output_type": "display_data",
          "data": {
            "image/png": "[encoded data removed]",
            "text/plain": [
              "<Figure size 864x288 with 1 Axes>"
            ]
          },
          "metadata": {
            "tags": [],
            "needs_background": "light"
          }
        }
      ]
    },
    {
      "cell_type": "markdown",
      "metadata": {
        "id": "JgOfPWLGlFv-",
        "colab_type": "text"
      },
      "source": [
        "## 신경망 모델과 가중치 저장"
      ]
    },
    {
      "cell_type": "code",
      "metadata": {
        "id": "h94CvnW5lYSq",
        "colab_type": "code",
        "outputId": "7c2ce4be-3ed9-490b-ab87-186e31682d1b",
        "colab": {
          "base_uri": "https://localhost:8080/",
          "height": 34
        }
      },
      "source": [
        "m_name = os.path.splitext(file_name)[0]\n",
        "model_json = model.to_json()\n",
        "with open(colab_dir + '/model/' + m_name + '.json', 'w') as f : \n",
        "    f.write(model_json)\n",
        "model.save_weights(colab_dir + '/model/' + m_name + '.h5')\n",
        "print(\"Save model to disk\")"
      ],
      "execution_count": 41,
      "outputs": [
        {
          "output_type": "stream",
          "text": [
            "Save model to disk\n"
          ],
          "name": "stdout"
        }
      ]
    },
    {
      "cell_type": "markdown",
      "metadata": {
        "id": "1Li7wRZPla7D",
        "colab_type": "text"
      },
      "source": [
        "## 저장한 모델 불러오기"
      ]
    },
    {
      "cell_type": "code",
      "metadata": {
        "id": "RVKXTmuSloz1",
        "colab_type": "code",
        "outputId": "dfe3c793-69e5-406e-b76b-c0c2b731ed11",
        "colab": {
          "base_uri": "https://localhost:8080/",
          "height": 34
        }
      },
      "source": [
        "json_file = open(colab_dir +'/model/' + m_name + '.json', 'r')\n",
        "loaded_model_json = json_file.read() \n",
        "json_file.close()\n",
        "simple_lstm_model = tf.keras.models.model_from_json(loaded_model_json)\n",
        "simple_lstm_model.load_weights(colab_dir +'/model/' + m_name + '.h5')\n",
        "print(\"Load model from disk\")"
      ],
      "execution_count": 42,
      "outputs": [
        {
          "output_type": "stream",
          "text": [
            "Load model from disk\n"
          ],
          "name": "stdout"
        }
      ]
    },
    {
      "cell_type": "markdown",
      "metadata": {
        "id": "ApfDCSKJltFK",
        "colab_type": "text"
      },
      "source": [
        "## 저장한 모델을 사용하여 예측"
      ]
    },
    {
      "cell_type": "code",
      "metadata": {
        "id": "ZhPArIawl02C",
        "colab_type": "code",
        "outputId": "da6714e3-bebc-4b5a-d7bb-1a126c37d15d",
        "colab": {
          "base_uri": "https://localhost:8080/",
          "height": 394
        }
      },
      "source": [
        "start = 100\n",
        "fig, axes = plt.subplots(nrows=1, ncols=1, sharey=True, figsize=(12, 4))\n",
        "y_pred = model.predict(X_valid[start].reshape(1, 20, 1))\n",
        "plot_series(X_valid[start, :, 0]*train_data_std+train_data_mean, \n",
        "            y_valid[start, 0]*train_data_std+train_data_mean, \n",
        "            y_pred[0, 0]*train_data_std+train_data_mean)\n",
        "\n",
        "input_data = X_valid[start, :, 0]*train_data_std+train_data_mean\n",
        "print(\"입력 데이터 : {}\".format(np.round(input_data,2)))\n",
        "predict_value = y_pred[0, 0]*train_data_std+train_data_mean\n",
        "print(\"예측값 : {}\".format(round(predict_value, 2)))\n",
        "real_value = y_valid[start, 0]*train_data_std+train_data_mean\n",
        "print(\"실제값 : {}\".format(round(real_value)))\n",
        "error = abs(predict_value-real_value)\n",
        "error_rate = error/real_value*100\n",
        "print(\"에러값 : {}\".format(round(error, 2)))\n",
        "print(\"에러율 : {}%\".format(round(error_rate, 2)))"
      ],
      "execution_count": 43,
      "outputs": [
        {
          "output_type": "stream",
          "text": [
            "입력 데이터 : [98.59 98.03 98.03 94.08 89.58 90.7  86.76 85.63 84.51 91.83 87.89 82.82\n",
            " 89.58 86.76 86.2  87.32 82.82 87.32 85.63 85.63]\n",
            "예측값 : 91.29\n",
            "실제값 : 92.0\n",
            "에러값 : 0.54\n",
            "에러율 : 0.59%\n"
          ],
          "name": "stdout"
        },
        {
          "output_type": "display_data",
          "data": {
            "image/png": "[encoded data removed]",
            "text/plain": [
              "<Figure size 864x288 with 1 Axes>"
            ]
          },
          "metadata": {
            "tags": [],
            "needs_background": "light"
          }
        }
      ]
    }
  ]
}